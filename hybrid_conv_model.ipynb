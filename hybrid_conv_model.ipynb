{
 "cells": [
  {
   "cell_type": "markdown",
   "metadata": {},
   "source": [
    "# Perceval Quest\n",
    "#### Author: *Valentin Deumier*\n",
    "\n",
    "Our goal is to start by creating a 'classical' neural network and train it on the famous MNIST handwritten digits dataset, and then try to upgrade it by using Linear Optical Quantum Computing, in hope to increase the accuracy of the model and lower the duration of the calculations.\n",
    "\n",
    "### <u>2: A hybrid model</u>"
   ]
  },
  {
   "cell_type": "code",
   "execution_count": 1,
   "metadata": {},
   "outputs": [],
   "source": [
    "import numpy as np\n",
    "from scipy import linalg\n",
    "import matplotlib.pyplot as plt\n",
    "import pandas as pd\n",
    "from sklearn import metrics\n",
    "import os\n",
    "\n",
    "import tensorflow as tf\n",
    "from tensorflow.keras.models import Sequential\n",
    "from tensorflow.keras.layers import Conv2D, MaxPooling2D, Flatten, Dense, Dropout\n",
    "from tensorflow.keras.utils import to_categorical\n",
    "from tensorflow.keras.models import Model\n",
    "\n",
    "import perceval as pcvl\n",
    "import perceval.components as comp\n",
    "from perceval.rendering.circuit import SymbSkin, PhysSkin\n",
    "from perceval import Circuit\n",
    "\n",
    "# Parameters\n",
    "IMG_SIZE = 28\n",
    "NUM_CLASSES = 10\n",
    "BATCH_SIZE = 128\n",
    "EPOCHS = 30"
   ]
  },
  {
   "cell_type": "code",
   "execution_count": 2,
   "metadata": {},
   "outputs": [
    {
     "name": "stdout",
     "output_type": "stream",
     "text": [
      "(6000, 28, 28, 1) (6000, 10) (600, 28, 28, 1) (600, 10)\n",
      "(6000, 7, 7, 1) (6000, 10) (600, 7, 7, 1) (600, 10)\n"
     ]
    }
   ],
   "source": [
    "# Data into numpy arrays\n",
    "def load_data(filename):\n",
    "\n",
    "    data = pd.read_csv(filename)\n",
    "    X = np.array(data['image'].str.split(',', expand=True).values)\n",
    "\n",
    "    # Remove the [ ] from the image data (fastest method I found)\n",
    "    for i in range(X.shape[0]):\n",
    "        for j in range(X.shape[1]):\n",
    "            X[i, j] = X[i, j].replace('[', '').replace(']', '')\n",
    "    X = X.astype(float)\n",
    "\n",
    "    y = data['label'].values\n",
    "\n",
    "    X = X.reshape(-1, IMG_SIZE, IMG_SIZE, 1)/255.0      # Reshape and normalize\n",
    "    y = to_categorical(y, NUM_CLASSES)\n",
    "    return X, y\n",
    "\n",
    "# Get the absolute path to the data folder\n",
    "script_dir = os.getcwd()\n",
    "data_dir = os.path.join(script_dir, 'data')\n",
    "\n",
    "# Load the data\n",
    "train_file = os.path.join(data_dir, 'train.csv')\n",
    "X_train, y_train = load_data(train_file)\n",
    "val_file = os.path.join(data_dir, 'val.csv')\n",
    "X_val, y_val = load_data(val_file)\n",
    "print(X_train.shape, y_train.shape, X_val.shape, y_val.shape)\n",
    "\n",
    "# Divide the image resolution by 4 using max pooling and avg pooling\n",
    "X_train = np.array(tf.keras.layers.MaxPooling2D(pool_size=(2, 2))(X_train))/255.0\n",
    "X_val = np.array(tf.keras.layers.MaxPooling2D(pool_size=(2, 2))(X_val))/255.0\n",
    "\n",
    "X_train = np.array(tf.keras.layers.AveragePooling2D(pool_size=(2, 2))(X_train))\n",
    "X_val = np.array(tf.keras.layers.AveragePooling2D(pool_size=(2, 2))(X_val))\n",
    "\n",
    "print(X_train.shape, y_train.shape, X_val.shape, y_val.shape)\n"
   ]
  },
  {
   "cell_type": "markdown",
   "metadata": {},
   "source": [
    "The idea here is to encode the image data into quantum data while preserving the 2-dimensional structure of the image. \\\n",
    "\\\n",
    "Like in the CNN model, we want neighbours pixels to remain close to each in the quantum representation so that we can perform \"local\" transformation (the equivalent of convoluting the image with a kernel), so the representation as to be continuous along both axis.\\\n",
    "This means that we can't flatten the data, so we can't use basis, angle or amplitude embedding.\\\n",
    "\\\n",
    "An idea could be to encode the image in a matrix representation of a unitary transformation (that could also be parametrized, and have its parameters be optimized).\\\n",
    "\\\n",
    "Being inspired by the solution of Schrodinger's equation for a time-independant Hamiltonian, we are going to represent the image $\\mathbf{x}$ as the resulting evolution operator :\n",
    "\n",
    "$$ U_t(\\mathbf{x}) = \\exp(-iH_{\\mathbf{x}}t) $$\n",
    "\n",
    "Where $H_{\\mathbf{x}}$ is the symetric part of our image matrix:\n",
    "\n",
    "$$ H_{\\mathbf{x}} = \\frac{\\mathbf{x} + \\mathbf{x}^T}{2} $$\n",
    "\n",
    "with $t \\in \\mathbb{R}$ a parameter that we can tweak."
   ]
  },
  {
   "cell_type": "code",
   "execution_count": 3,
   "metadata": {},
   "outputs": [
    {
     "data": {
      "image/png": "[encoded data removed]",
      "text/plain": [
       "<Figure size 500x500 with 2 Axes>"
      ]
     },
     "metadata": {},
     "output_type": "display_data"
    }
   ],
   "source": [
    "def toHamiltonian(x):\n",
    "    H = 0.5*(x[:, :, 0] + x[:, :, 0].T)\n",
    "    return H\n",
    "\n",
    "def plot_hamiltonian(x):\n",
    "    L = [x, toHamiltonian(x)]\n",
    "    labels = ['Matrix', 'Hamiltonian']\n",
    "    fig, axes = plt.subplots(1, 2, figsize=(5, 5))\n",
    "    for i in range(2):\n",
    "        axes[i].imshow(L[i], cmap='gray_r')\n",
    "        axes[i].set_title(labels[i])\n",
    "        axes[i].axis('off')\n",
    "    plt.show()\n",
    "\n",
    "# Plot the first image and its Hamiltonian\n",
    "plot_hamiltonian(X_train[1])"
   ]
  },
  {
   "cell_type": "code",
   "execution_count": 4,
   "metadata": {},
   "outputs": [],
   "source": [
    "# As an example, we are computing the operator associated with the second image\n",
    "\n",
    "def U(x: np.ndarray, t: float) -> np.ndarray:\n",
    "    \"\"\"Compute the unitary operator associated with the Hamiltonian x and time t\"\"\"\n",
    "    H = toHamiltonian(x)\n",
    "    return linalg.expm(-1j*H*t)\n",
    "\n",
    "# M = pcvl.Matrix(U(X_train[1], 1000))\n",
    "# c1 = comp.Unitary(U=M)\n",
    "\n",
    "# Decompose the unitary into a circuit\n",
    "# ub = pcvl.Circuit(2, name=\"ub\") // comp.BS() // (0, comp.PS(phi=pcvl.Parameter(\"φ_a\"))) // comp.BS() // (1, comp.PS(phi=pcvl.Parameter(\"φ_b\")))\n",
    "# c2 = pcvl.Circuit.decomposition(M, ub, shape=pcvl.InterferometerShape.TRIANGLE)"
   ]
  },
  {
   "cell_type": "markdown",
   "metadata": {},
   "source": [
    "To reproduce the local effect of the convolution, the next layer will be constituted of a brickwork layout of beam splitters that are acting on modes close to each other.\\\n",
    "\\\n",
    "The operator associated with this layer will be denoted $V(\\mathbf{\\omega})$, with $\\mathbf{\\omega}$ being the array of parameters of the beam splitters."
   ]
  },
  {
   "cell_type": "code",
   "execution_count": 5,
   "metadata": {},
   "outputs": [],
   "source": [
    "def brickwork(\n",
    "    omega: np.ndarray,\n",
    "    num_modes: int,\n",
    ") -> Circuit:\n",
    "    \"\"\"\n",
    "    Create a brickwork circuit with BS components.\n",
    "    Args:   \n",
    "        omega         : BS parameters (len(omega) = num_modes - 1)\n",
    "        num_modes : Width of circuit\n",
    "    Returns:\n",
    "        Circuit\n",
    "    \"\"\"\n",
    "    circ = Circuit(num_modes)\n",
    "    even_modes = np.arange(0, num_modes - 1, 2)\n",
    "    odd_modes = np.arange(1, num_modes - 1, 2)\n",
    "\n",
    "    for k in even_modes:\n",
    "        circ.add(int(k), comp.BS(omega[int(k)]))\n",
    "    for j in odd_modes:\n",
    "        circ.add(int(j), comp.BS(omega[int(j)]))\n",
    "   \n",
    "    return circ\n",
    "\n",
    "# Example of a V(omega) layer\n",
    "# omega = np.zeros(6)\n",
    "# c2 = brickwork(omega, 7)\n",
    "# pcvl.pdisplay(c2)"
   ]
  },
  {
   "cell_type": "code",
   "execution_count": 6,
   "metadata": {},
   "outputs": [
    {
     "name": "stdout",
     "output_type": "stream",
     "text": [
      "|1,1,1,1,1,1,1>\n"
     ]
    }
   ],
   "source": [
    "N = 7      # Number of photons\n",
    "m = 7      # Number of modes   \n",
    "L = 5       # Number of layers\n",
    "\n",
    "# Input state with N photons and m modes\n",
    "input_state = pcvl.BasicState([1]*N+[0]*(m-N))\n",
    "print(input_state)\n",
    "\n",
    "# Random parameters for the circuit initialization\n",
    "t_params = np.random.uniform(0, 100, L)\n",
    "omega_params = np.random.uniform(0, 2*np.pi, L*(m-1))"
   ]
  },
  {
   "cell_type": "markdown",
   "metadata": {},
   "source": [
    "The code will follow the following scheme:\n",
    "- Use the fonction **create_circuit(x, params)** that create the circuit with L layers $U_t(\\mathbf{x}) V(\\mathbf{\\omega})$ associated to the image $\\mathbf{x}$.\n",
    "- Compute the full output probability with the input $N*|1>$.\n",
    "- Convert the output into a predicted label\n",
    "- Compute the sparse categorical cross-entropy loss (that is a function of $\\mathbf{x}$ and the parameters)\n",
    "- Do a minimization step."
   ]
  },
  {
   "cell_type": "code",
   "execution_count": 7,
   "metadata": {},
   "outputs": [],
   "source": [
    "def create_circuit(x, t_params, omega_params):\n",
    "    c = Circuit(m)\n",
    "    for i in range(L):\n",
    "        c.add(0, comp.Unitary(U=pcvl.Matrix(U(x, t_params[i]))))\n",
    "        c.add(0, brickwork(omega_params[i*(m-1):(i+1)*(m-1)], m))\n",
    "    return c\n",
    "\n",
    "# c = create_circuit(X_train[1], t_params, omega_params)\n",
    "# pcvl.pdisplay(c)"
   ]
  },
  {
   "cell_type": "code",
   "execution_count": 45,
   "metadata": {},
   "outputs": [],
   "source": [
    "def compute_probabilities(x, t_params, omega_params):\n",
    "    processor = pcvl.Processor(\"SLOS\", create_circuit(x, t_params, omega_params))\n",
    "    processor.with_input(input_state)\n",
    "    sampler = pcvl.algorithm.Sampler(processor)\n",
    "    prob_dist = sampler.probs()\n",
    "    return prob_dist\n",
    "\n",
    "# processor = pcvl.Processor(\"SLOS\", create_circuit(X_train[2], t_params, omega_params))\n",
    "# processor.with_input(input_state)\n",
    "\n",
    "# sampler = pcvl.algorithm.Sampler(processor)\n",
    "# prob_dist = sampler.probs()\n",
    "\n",
    "# argmax = np.argmax(list(prob_dist['results'].values()))\n",
    "# most_probable_output = list(prob_dist['results'].keys())[argmax]\n",
    "# most_probable_probability = list(prob_dist['results'].values())[argmax]\n",
    "\n",
    "# print(\"The most probable output is\", most_probable_output, \"with probability\", most_probable_probability)"
   ]
  },
  {
   "cell_type": "code",
   "execution_count": 46,
   "metadata": {},
   "outputs": [],
   "source": [
    "# Convert from the repartition of photon in the most probable output to a label\n",
    "def output_to_label(output):\n",
    "    return int(np.round(np.average(range(len(output)), weights=output)*3/2))       # Scale the output to the range [0, 9]\n",
    "\n",
    "def confidence_array(prob_dist):\n",
    "    confidence = np.zeros(NUM_CLASSES)\n",
    "    for output, prob in prob_dist['results'].items():\n",
    "        label = output_to_label(output)\n",
    "        confidence[label] += prob\n",
    "    return confidence"
   ]
  },
  {
   "cell_type": "code",
   "execution_count": 47,
   "metadata": {},
   "outputs": [],
   "source": [
    "def sparse_categorical_crossentropy(y_true, y_pred):\n",
    "    return -np.log(y_pred[y_true])\n",
    "\n",
    "def sparse_categorical_accuracy(y_true, y_pred):\n",
    "    return np.argmax(y_pred) == y_true"
   ]
  }
 ],
 "metadata": {
  "kernelspec": {
   "display_name": ".venv",
   "language": "python",
   "name": "python3"
  },
  "language_info": {
   "codemirror_mode": {
    "name": "ipython",
    "version": 3
   },
   "file_extension": ".py",
   "mimetype": "text/x-python",
   "name": "python",
   "nbconvert_exporter": "python",
   "pygments_lexer": "ipython3",
   "version": "3.9.6"
  }
 },
 "nbformat": 4,
 "nbformat_minor": 2
}
