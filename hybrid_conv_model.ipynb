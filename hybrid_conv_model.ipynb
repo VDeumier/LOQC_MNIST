{
 "cells": [
  {
   "cell_type": "markdown",
   "metadata": {},
   "source": [
    "# Perceval Quest\n",
    "#### Author: *Valentin Deumier*\n",
    "\n",
    "Our goal is to start by creating a 'classical' neural network and train it on the famous MNIST handwritten digits dataset, and then try to upgrade it by using Linear Optical Quantum Computing, in hope to increase the accuracy of the model and lower the duration of the calculations.\n",
    "\n",
    "### <u>2: A hybrid model</u>"
   ]
  },
  {
   "cell_type": "code",
   "execution_count": 17,
   "metadata": {},
   "outputs": [],
   "source": [
    "import numpy as np\n",
    "from scipy import linalg\n",
    "import matplotlib.pyplot as plt\n",
    "import pandas as pd\n",
    "from sklearn import metrics\n",
    "from tqdm import tqdm\n",
    "import os\n",
    "\n",
    "import tensorflow as tf\n",
    "from tensorflow.keras.models import Sequential\n",
    "from tensorflow.keras.layers import Conv2D, MaxPooling2D, Flatten, Dense, Dropout\n",
    "from tensorflow.keras.utils import to_categorical\n",
    "from tensorflow.keras.models import Model\n",
    "\n",
    "import perceval as pcvl\n",
    "import perceval.components as comp\n",
    "from perceval.rendering.circuit import SymbSkin, PhysSkin\n",
    "from perceval import Circuit\n",
    "\n",
    "# Parameters\n",
    "IMG_SIZE = 28\n",
    "NUM_CLASSES = 10\n",
    "BATCH_SIZE = 128\n",
    "EPOCHS = 30"
   ]
  },
  {
   "cell_type": "code",
   "execution_count": 18,
   "metadata": {},
   "outputs": [
    {
     "name": "stdout",
     "output_type": "stream",
     "text": [
      "(6000, 28, 28, 1) (6000, 10) (600, 28, 28, 1) (600, 10)\n",
      "(6000, 7, 7, 1) (6000, 10) (600, 7, 7, 1) (600, 10)\n"
     ]
    }
   ],
   "source": [
    "# Data into numpy arrays\n",
    "def load_data(filename):\n",
    "\n",
    "    data = pd.read_csv(filename)\n",
    "    X = np.array(data['image'].str.split(',', expand=True).values)\n",
    "\n",
    "    # Remove the [ ] from the image data (fastest method I found)\n",
    "    for i in range(X.shape[0]):\n",
    "        for j in range(X.shape[1]):\n",
    "            X[i, j] = X[i, j].replace('[', '').replace(']', '')\n",
    "    X = X.astype(float)\n",
    "\n",
    "    y = data['label'].values\n",
    "\n",
    "    X = X.reshape(-1, IMG_SIZE, IMG_SIZE, 1)/255.0      # Reshape and normalize\n",
    "    y = to_categorical(y, NUM_CLASSES)\n",
    "    return X, y\n",
    "\n",
    "# Get the absolute path to the data folder\n",
    "script_dir = os.getcwd()\n",
    "data_dir = os.path.join(script_dir, 'data')\n",
    "\n",
    "# Load the data\n",
    "train_file = os.path.join(data_dir, 'train.csv')\n",
    "X_train, y_train = load_data(train_file)\n",
    "val_file = os.path.join(data_dir, 'val.csv')\n",
    "X_val, y_val = load_data(val_file)\n",
    "print(X_train.shape, y_train.shape, X_val.shape, y_val.shape)\n",
    "\n",
    "# Divide the image resolution by 4 using max pooling and avg pooling\n",
    "X_train = np.array(tf.keras.layers.MaxPooling2D(pool_size=(2, 2))(X_train))/255.0\n",
    "X_val = np.array(tf.keras.layers.MaxPooling2D(pool_size=(2, 2))(X_val))/255.0\n",
    "\n",
    "X_train = np.array(tf.keras.layers.AveragePooling2D(pool_size=(2, 2))(X_train))\n",
    "X_val = np.array(tf.keras.layers.AveragePooling2D(pool_size=(2, 2))(X_val))\n",
    "\n",
    "print(X_train.shape, y_train.shape, X_val.shape, y_val.shape)\n"
   ]
  },
  {
   "cell_type": "markdown",
   "metadata": {},
   "source": [
    "The idea here is to encode the image data into quantum data while preserving the 2-dimensional structure of the image. \\\n",
    "\\\n",
    "Like in the CNN model, we want neighbours pixels to remain close to each in the quantum representation so that we can perform \"local\" transformation (the equivalent of convoluting the image with a kernel), so the representation has to be continuous along both axis.\\\n",
    "This means that we can't flatten the data, so we can't use basis, angle or amplitude embedding.\\\n",
    "\\\n",
    "An idea could be to encode the image in a matrix representation of a unitary transformation (that could also be parametrized, and have its parameters be optimized).\\\n",
    "\\\n",
    "Being inspired by the solution of Schrodinger's equation for a time-independant Hamiltonian, we are going to represent the image $\\mathbf{x}$ as the resulting evolution operator :\n",
    "\n",
    "$$ U_t(\\mathbf{x}) = \\exp(-iH_{\\mathbf{x}}t) $$\n",
    "\n",
    "Where $H_{\\mathbf{x}}$ is the symetric part of our image matrix:\n",
    "\n",
    "$$ H_{\\mathbf{x}} = \\frac{\\mathbf{x} + \\mathbf{x}^T}{2} $$\n",
    "\n",
    "with $t \\in \\mathbb{R}$ a parameter that we can tweak."
   ]
  },
  {
   "cell_type": "code",
   "execution_count": 19,
   "metadata": {},
   "outputs": [
    {
     "data": {
      "image/png": "[encoded data removed]",
      "text/plain": [
       "<Figure size 500x500 with 2 Axes>"
      ]
     },
     "metadata": {},
     "output_type": "display_data"
    }
   ],
   "source": [
    "def toHamiltonian(x):\n",
    "    H = 0.5*(x[:, :, 0] + x[:, :, 0].T)\n",
    "    return H\n",
    "\n",
    "def plot_hamiltonian(x):\n",
    "    L = [x, toHamiltonian(x)]\n",
    "    labels = ['Matrix', 'Hamiltonian']\n",
    "    fig, axes = plt.subplots(1, 2, figsize=(5, 5))\n",
    "    for i in range(2):\n",
    "        axes[i].imshow(L[i], cmap='gray_r')\n",
    "        axes[i].set_title(labels[i])\n",
    "        axes[i].axis('off')\n",
    "    plt.show()\n",
    "\n",
    "# Plot the first image and its Hamiltonian\n",
    "plot_hamiltonian(X_train[1])"
   ]
  },
  {
   "cell_type": "code",
   "execution_count": 20,
   "metadata": {},
   "outputs": [],
   "source": [
    "# As an example, we are computing the operator associated with the second image\n",
    "\n",
    "def U(x: np.ndarray, t: float) -> np.ndarray:\n",
    "    \"\"\"Compute the unitary operator associated with the Hamiltonian x and time t\"\"\"\n",
    "    H = toHamiltonian(x)\n",
    "    return linalg.expm(-1j*H*t)\n",
    "\n",
    "# M = pcvl.Matrix(U(X_train[1], 1000))\n",
    "# c1 = comp.Unitary(U=M)\n",
    "\n",
    "# Decompose the unitary into a circuit\n",
    "# ub = pcvl.Circuit(2, name=\"ub\") // comp.BS() // (0, comp.PS(phi=pcvl.Parameter(\"φ_a\"))) // comp.BS() // (1, comp.PS(phi=pcvl.Parameter(\"φ_b\")))\n",
    "# c2 = pcvl.Circuit.decomposition(M, ub, shape=pcvl.InterferometerShape.TRIANGLE)\n",
    "# pcvl.pdisplay(c2)"
   ]
  },
  {
   "cell_type": "markdown",
   "metadata": {},
   "source": [
    "To reproduce the local effect of the convolution, the next layer will be constituted of a brickwork layout of beam splitters that are acting on modes close to each other.\\\n",
    "\\\n",
    "The operator associated with this layer will be denoted $V(\\mathbf{\\omega})$, with $\\mathbf{\\omega}$ being the array of parameters of the beam splitters."
   ]
  },
  {
   "cell_type": "code",
   "execution_count": 21,
   "metadata": {},
   "outputs": [
    {
     "data": {
      "image/svg+xml": [
       "<?xml version=\"1.0\" encoding=\"UTF-8\"?>\n",
       "<svg xmlns=\"http://www.w3.org/2000/svg\" xmlns:xlink=\"http://www.w3.org/1999/xlink\"\n",
       "     width=\"385.0\" height=\"468.75\" viewBox=\"-29.0 0 308.0 375.0\">\n",
       "<defs>\n",
       "</defs>\n",
       "<path d=\"M10,25.0 L25,25.0\" stroke-width=\"3\" stroke=\"darkred\" stroke-linejoin=\"miter\" fill=\"none\" />\n",
       "<path d=\"M10,75.0 L25,75.0\" stroke-width=\"3\" stroke=\"darkred\" stroke-linejoin=\"miter\" fill=\"none\" />\n",
       "<path d=\"M10,125.0 L25,125.0\" stroke-width=\"3\" stroke=\"darkred\" stroke-linejoin=\"miter\" fill=\"none\" />\n",
       "<path d=\"M10,175.0 L25,175.0\" stroke-width=\"3\" stroke=\"darkred\" stroke-linejoin=\"miter\" fill=\"none\" />\n",
       "<path d=\"M10,225.0 L25,225.0\" stroke-width=\"3\" stroke=\"darkred\" stroke-linejoin=\"miter\" fill=\"none\" />\n",
       "<path d=\"M10,275.0 L25,275.0\" stroke-width=\"3\" stroke=\"darkred\" stroke-linejoin=\"miter\" fill=\"none\" />\n",
       "<path d=\"M10,325.0 L25,325.0\" stroke-width=\"3\" stroke=\"darkred\" stroke-linejoin=\"miter\" fill=\"none\" />\n",
       "<path d=\"M25,25 L53,25 L72,44\" stroke=\"darkred\" stroke-width=\"3\" fill=\"none\" />\n",
       "<path d=\"M78,44 L97,25 L125,25\" stroke=\"darkred\" stroke-width=\"3\" fill=\"none\" />\n",
       "<path d=\"M25,75 L53,75 L72,56\" stroke=\"darkred\" stroke-width=\"3\" fill=\"none\" />\n",
       "<path d=\"M78,56 L97,75 L125,75\" stroke=\"darkred\" stroke-width=\"3\" fill=\"none\" />\n",
       "<path d=\"M50,43 L100,43 L100,57 L50,57 Z\" stroke=\"black\" fill=\"black\" stroke-linejoin=\"miter\" />\n",
       "<text x=\"75\" y=\"80\" font-size=\"7\" text-anchor=\"middle\"></text>\n",
       "<text x=\"75\" y=\"26\" font-size=\"7\" text-anchor=\"middle\">Θ=0</text>\n",
       "<path d=\"M50,43 L100,43 L100,47 L50,47 Z\" stroke=\"black\" fill=\"lightgray\" stroke-linejoin=\"miter\" />\n",
       "<path d=\"M93,50 L103,50 L103,60 L93,60 Z\" stroke=\"black\" fill=\"thistle\" stroke-linejoin=\"miter\" />\n",
       "<text x=\"98\" y=\"57\" font-size=\"6\" text-anchor=\"middle\">Rx</text>\n",
       "<path d=\"M25,125 L53,125 L72,144\" stroke=\"darkred\" stroke-width=\"3\" fill=\"none\" />\n",
       "<path d=\"M78,144 L97,125 L125,125\" stroke=\"darkred\" stroke-width=\"3\" fill=\"none\" />\n",
       "<path d=\"M25,175 L53,175 L72,156\" stroke=\"darkred\" stroke-width=\"3\" fill=\"none\" />\n",
       "<path d=\"M78,156 L97,175 L125,175\" stroke=\"darkred\" stroke-width=\"3\" fill=\"none\" />\n",
       "<path d=\"M50,143 L100,143 L100,157 L50,157 Z\" stroke=\"black\" fill=\"black\" stroke-linejoin=\"miter\" />\n",
       "<text x=\"75\" y=\"180\" font-size=\"7\" text-anchor=\"middle\"></text>\n",
       "<text x=\"75\" y=\"126\" font-size=\"7\" text-anchor=\"middle\">Θ=0</text>\n",
       "<path d=\"M50,143 L100,143 L100,147 L50,147 Z\" stroke=\"black\" fill=\"lightgray\" stroke-linejoin=\"miter\" />\n",
       "<path d=\"M93,150 L103,150 L103,160 L93,160 Z\" stroke=\"black\" fill=\"thistle\" stroke-linejoin=\"miter\" />\n",
       "<text x=\"98\" y=\"157\" font-size=\"6\" text-anchor=\"middle\">Rx</text>\n",
       "<path d=\"M25,225 L53,225 L72,244\" stroke=\"darkred\" stroke-width=\"3\" fill=\"none\" />\n",
       "<path d=\"M78,244 L97,225 L125,225\" stroke=\"darkred\" stroke-width=\"3\" fill=\"none\" />\n",
       "<path d=\"M25,275 L53,275 L72,256\" stroke=\"darkred\" stroke-width=\"3\" fill=\"none\" />\n",
       "<path d=\"M78,256 L97,275 L125,275\" stroke=\"darkred\" stroke-width=\"3\" fill=\"none\" />\n",
       "<path d=\"M50,243 L100,243 L100,257 L50,257 Z\" stroke=\"black\" fill=\"black\" stroke-linejoin=\"miter\" />\n",
       "<text x=\"75\" y=\"280\" font-size=\"7\" text-anchor=\"middle\"></text>\n",
       "<text x=\"75\" y=\"226\" font-size=\"7\" text-anchor=\"middle\">Θ=0</text>\n",
       "<path d=\"M50,243 L100,243 L100,247 L50,247 Z\" stroke=\"black\" fill=\"lightgray\" stroke-linejoin=\"miter\" />\n",
       "<path d=\"M93,250 L103,250 L103,260 L93,260 Z\" stroke=\"black\" fill=\"thistle\" stroke-linejoin=\"miter\" />\n",
       "<text x=\"98\" y=\"257\" font-size=\"6\" text-anchor=\"middle\">Rx</text>\n",
       "<path d=\"M125,75 L153,75 L172,94\" stroke=\"darkred\" stroke-width=\"3\" fill=\"none\" />\n",
       "<path d=\"M178,94 L197,75 L225,75\" stroke=\"darkred\" stroke-width=\"3\" fill=\"none\" />\n",
       "<path d=\"M125,125 L153,125 L172,106\" stroke=\"darkred\" stroke-width=\"3\" fill=\"none\" />\n",
       "<path d=\"M178,106 L197,125 L225,125\" stroke=\"darkred\" stroke-width=\"3\" fill=\"none\" />\n",
       "<path d=\"M150,93 L200,93 L200,107 L150,107 Z\" stroke=\"black\" fill=\"black\" stroke-linejoin=\"miter\" />\n",
       "<text x=\"175\" y=\"130\" font-size=\"7\" text-anchor=\"middle\"></text>\n",
       "<text x=\"175\" y=\"76\" font-size=\"7\" text-anchor=\"middle\">Θ=0</text>\n",
       "<path d=\"M150,93 L200,93 L200,97 L150,97 Z\" stroke=\"black\" fill=\"lightgray\" stroke-linejoin=\"miter\" />\n",
       "<path d=\"M193,100 L203,100 L203,110 L193,110 Z\" stroke=\"black\" fill=\"thistle\" stroke-linejoin=\"miter\" />\n",
       "<text x=\"198\" y=\"107\" font-size=\"6\" text-anchor=\"middle\">Rx</text>\n",
       "<path d=\"M125,175 L153,175 L172,194\" stroke=\"darkred\" stroke-width=\"3\" fill=\"none\" />\n",
       "<path d=\"M178,194 L197,175 L225,175\" stroke=\"darkred\" stroke-width=\"3\" fill=\"none\" />\n",
       "<path d=\"M125,225 L153,225 L172,206\" stroke=\"darkred\" stroke-width=\"3\" fill=\"none\" />\n",
       "<path d=\"M178,206 L197,225 L225,225\" stroke=\"darkred\" stroke-width=\"3\" fill=\"none\" />\n",
       "<path d=\"M150,193 L200,193 L200,207 L150,207 Z\" stroke=\"black\" fill=\"black\" stroke-linejoin=\"miter\" />\n",
       "<text x=\"175\" y=\"230\" font-size=\"7\" text-anchor=\"middle\"></text>\n",
       "<text x=\"175\" y=\"176\" font-size=\"7\" text-anchor=\"middle\">Θ=0</text>\n",
       "<path d=\"M150,193 L200,193 L200,197 L150,197 Z\" stroke=\"black\" fill=\"lightgray\" stroke-linejoin=\"miter\" />\n",
       "<path d=\"M193,200 L203,200 L203,210 L193,210 Z\" stroke=\"black\" fill=\"thistle\" stroke-linejoin=\"miter\" />\n",
       "<text x=\"198\" y=\"207\" font-size=\"6\" text-anchor=\"middle\">Rx</text>\n",
       "<path d=\"M25,325.0 L125,325.0\" stroke=\"darkred\" stroke-width=\"3\" fill=\"none\" />\n",
       "<path d=\"M125,275 L153,275 L172,294\" stroke=\"darkred\" stroke-width=\"3\" fill=\"none\" />\n",
       "<path d=\"M178,294 L197,275 L225,275\" stroke=\"darkred\" stroke-width=\"3\" fill=\"none\" />\n",
       "<path d=\"M125,325 L153,325 L172,306\" stroke=\"darkred\" stroke-width=\"3\" fill=\"none\" />\n",
       "<path d=\"M178,306 L197,325 L225,325\" stroke=\"darkred\" stroke-width=\"3\" fill=\"none\" />\n",
       "<path d=\"M150,293 L200,293 L200,307 L150,307 Z\" stroke=\"black\" fill=\"black\" stroke-linejoin=\"miter\" />\n",
       "<text x=\"175\" y=\"330\" font-size=\"7\" text-anchor=\"middle\"></text>\n",
       "<text x=\"175\" y=\"276\" font-size=\"7\" text-anchor=\"middle\">Θ=0</text>\n",
       "<path d=\"M150,293 L200,293 L200,297 L150,297 Z\" stroke=\"black\" fill=\"lightgray\" stroke-linejoin=\"miter\" />\n",
       "<path d=\"M193,300 L203,300 L203,310 L193,310 Z\" stroke=\"black\" fill=\"thistle\" stroke-linejoin=\"miter\" />\n",
       "<text x=\"198\" y=\"307\" font-size=\"6\" text-anchor=\"middle\">Rx</text>\n",
       "<path d=\"M125,25.0 L225,25.0\" stroke=\"darkred\" stroke-width=\"3\" fill=\"none\" />\n",
       "<path d=\"M225,25.0 L240,25.0\" stroke-width=\"3\" stroke=\"darkred\" stroke-linejoin=\"miter\" fill=\"none\" />\n",
       "<path d=\"M225,75.0 L240,75.0\" stroke-width=\"3\" stroke=\"darkred\" stroke-linejoin=\"miter\" fill=\"none\" />\n",
       "<path d=\"M225,125.0 L240,125.0\" stroke-width=\"3\" stroke=\"darkred\" stroke-linejoin=\"miter\" fill=\"none\" />\n",
       "<path d=\"M225,175.0 L240,175.0\" stroke-width=\"3\" stroke=\"darkred\" stroke-linejoin=\"miter\" fill=\"none\" />\n",
       "<path d=\"M225,225.0 L240,225.0\" stroke-width=\"3\" stroke=\"darkred\" stroke-linejoin=\"miter\" fill=\"none\" />\n",
       "<path d=\"M225,275.0 L240,275.0\" stroke-width=\"3\" stroke=\"darkred\" stroke-linejoin=\"miter\" fill=\"none\" />\n",
       "<path d=\"M225,325.0 L240,325.0\" stroke-width=\"3\" stroke=\"darkred\" stroke-linejoin=\"miter\" fill=\"none\" />\n",
       "<text x=\"250\" y=\"28.0\" font-size=\"8\" text-anchor=\"end\">0</text>\n",
       "<text x=\"250\" y=\"78.0\" font-size=\"8\" text-anchor=\"end\">1</text>\n",
       "<text x=\"250\" y=\"128.0\" font-size=\"8\" text-anchor=\"end\">2</text>\n",
       "<text x=\"250\" y=\"178.0\" font-size=\"8\" text-anchor=\"end\">3</text>\n",
       "<text x=\"250\" y=\"228.0\" font-size=\"8\" text-anchor=\"end\">4</text>\n",
       "<text x=\"250\" y=\"278.0\" font-size=\"8\" text-anchor=\"end\">5</text>\n",
       "<text x=\"250\" y=\"328.0\" font-size=\"8\" text-anchor=\"end\">6</text>\n",
       "<text x=\"0\" y=\"28.0\" font-size=\"8\" text-anchor=\"start\">0</text>\n",
       "<text x=\"0\" y=\"78.0\" font-size=\"8\" text-anchor=\"start\">1</text>\n",
       "<text x=\"0\" y=\"128.0\" font-size=\"8\" text-anchor=\"start\">2</text>\n",
       "<text x=\"0\" y=\"178.0\" font-size=\"8\" text-anchor=\"start\">3</text>\n",
       "<text x=\"0\" y=\"228.0\" font-size=\"8\" text-anchor=\"start\">4</text>\n",
       "<text x=\"0\" y=\"278.0\" font-size=\"8\" text-anchor=\"start\">5</text>\n",
       "<text x=\"0\" y=\"328.0\" font-size=\"8\" text-anchor=\"start\">6</text>\n",
       "</svg>"
      ],
      "text/plain": [
       "<drawsvg.drawing.Drawing at 0x20ebec5e7f0>"
      ]
     },
     "execution_count": 21,
     "metadata": {},
     "output_type": "execute_result"
    }
   ],
   "source": [
    "def brickwork(\n",
    "    omega: np.ndarray,\n",
    "    num_modes: int,\n",
    ") -> Circuit:\n",
    "    \"\"\"\n",
    "    Create a brickwork circuit with BS components.\n",
    "    Args:   \n",
    "        omega         : BS parameters (len(omega) = num_modes - 1)\n",
    "        num_modes : Width of circuit\n",
    "    Returns:\n",
    "        Circuit\n",
    "    \"\"\"\n",
    "    circ = Circuit(num_modes)\n",
    "    even_modes = np.arange(0, num_modes - 1, 2)\n",
    "    odd_modes = np.arange(1, num_modes - 1, 2)\n",
    "\n",
    "    for k in even_modes:\n",
    "        circ.add(int(k), comp.BS(omega[int(k)]))\n",
    "    for j in odd_modes:\n",
    "        circ.add(int(j), comp.BS(omega[int(j)]))\n",
    "   \n",
    "    return circ\n",
    "\n",
    "# Example of a V(omega) layer\n",
    "omega = np.zeros(6)\n",
    "c2 = brickwork(omega, 7)\n",
    "pcvl.pdisplay(c2)\n",
    "\n",
    "# To do: Check if the model is better if we add phase shifters to the V layer"
   ]
  },
  {
   "cell_type": "code",
   "execution_count": 22,
   "metadata": {},
   "outputs": [
    {
     "name": "stdout",
     "output_type": "stream",
     "text": [
      "|1,1,1,1,1,1,1>\n"
     ]
    }
   ],
   "source": [
    "N = 7      # Number of photons\n",
    "m = 7      # Number of modes   \n",
    "L = 5       # Number of layers\n",
    "\n",
    "# Input state with N photons and m modes\n",
    "input_state = pcvl.BasicState([1]*N+[0]*(m-N))\n",
    "print(input_state)\n",
    "\n",
    "# Random parameters for the circuit initialization\n",
    "t_params = np.random.uniform(0, 100, L)\n",
    "omega_params = np.random.uniform(0, 2*np.pi, L*(m-1))"
   ]
  },
  {
   "cell_type": "markdown",
   "metadata": {},
   "source": [
    "The code will follow the following scheme:\n",
    "- Use the fonction **create_circuit(x, params)** that create the circuit with L layers $U_t(\\mathbf{x}) V(\\mathbf{\\omega})$ associated to the image $\\mathbf{x}$.\n",
    "- Compute the full output probability with the input $N*|1>$.\n",
    "- Convert the output into a predicted label\n",
    "- Compute the sparse categorical cross-entropy loss (that is a function of $\\mathbf{x}$ and the parameters)\n",
    "- Do a minimization step."
   ]
  },
  {
   "cell_type": "code",
   "execution_count": 23,
   "metadata": {},
   "outputs": [
    {
     "data": {
      "image/svg+xml": [
       "<?xml version=\"1.0\" encoding=\"UTF-8\"?>\n",
       "<svg xmlns=\"http://www.w3.org/2000/svg\" xmlns:xlink=\"http://www.w3.org/1999/xlink\"\n",
       "     width=\"2947.5\" height=\"468.75\" viewBox=\"-29.0 0 2358.0 375.0\">\n",
       "<defs>\n",
       "</defs>\n",
       "<path d=\"M10,25.0 L25,25.0\" stroke-width=\"3\" stroke=\"darkred\" stroke-linejoin=\"miter\" fill=\"none\" />\n",
       "<path d=\"M10,75.0 L25,75.0\" stroke-width=\"3\" stroke=\"darkred\" stroke-linejoin=\"miter\" fill=\"none\" />\n",
       "<path d=\"M10,125.0 L25,125.0\" stroke-width=\"3\" stroke=\"darkred\" stroke-linejoin=\"miter\" fill=\"none\" />\n",
       "<path d=\"M10,175.0 L25,175.0\" stroke-width=\"3\" stroke=\"darkred\" stroke-linejoin=\"miter\" fill=\"none\" />\n",
       "<path d=\"M10,225.0 L25,225.0\" stroke-width=\"3\" stroke=\"darkred\" stroke-linejoin=\"miter\" fill=\"none\" />\n",
       "<path d=\"M10,275.0 L25,275.0\" stroke-width=\"3\" stroke=\"darkred\" stroke-linejoin=\"miter\" fill=\"none\" />\n",
       "<path d=\"M10,325.0 L25,325.0\" stroke-width=\"3\" stroke=\"darkred\" stroke-linejoin=\"miter\" fill=\"none\" />\n",
       "<path d=\"M25,25 L375,25\" stroke-width=\"3\" stroke=\"darkred\" stroke-linejoin=\"miter\" fill=\"none\" />\n",
       "<path d=\"M25,75 L375,75\" stroke-width=\"3\" stroke=\"darkred\" stroke-linejoin=\"miter\" fill=\"none\" />\n",
       "<path d=\"M25,125 L375,125\" stroke-width=\"3\" stroke=\"darkred\" stroke-linejoin=\"miter\" fill=\"none\" />\n",
       "<path d=\"M25,175 L375,175\" stroke-width=\"3\" stroke=\"darkred\" stroke-linejoin=\"miter\" fill=\"none\" />\n",
       "<path d=\"M25,225 L375,225\" stroke-width=\"3\" stroke=\"darkred\" stroke-linejoin=\"miter\" fill=\"none\" />\n",
       "<path d=\"M25,275 L375,275\" stroke-width=\"3\" stroke=\"darkred\" stroke-linejoin=\"miter\" fill=\"none\" />\n",
       "<path d=\"M25,325 L375,325\" stroke-width=\"3\" stroke=\"darkred\" stroke-linejoin=\"miter\" fill=\"none\" />\n",
       "<path d=\"M30,5 L370,5 L370,345 L30,345 Z\" stroke=\"black\" fill=\"gold\" stroke-linejoin=\"miter\" />\n",
       "<text x=\"200\" y=\"175\" font-size=\"10\" text-anchor=\"middle\">Unitary</text>\n",
       "<path d=\"M375,25 L475,25\" stroke=\"darkred\" stroke-width=\"3\" fill=\"none\" />\n",
       "<path d=\"M375,75 L475,75\" stroke=\"darkred\" stroke-width=\"3\" fill=\"none\" />\n",
       "<path d=\"M375,125 L475,125\" stroke=\"darkred\" stroke-width=\"3\" fill=\"none\" />\n",
       "<path d=\"M375,175 L475,175\" stroke=\"darkred\" stroke-width=\"3\" fill=\"none\" />\n",
       "<path d=\"M375,225 L475,225\" stroke=\"darkred\" stroke-width=\"3\" fill=\"none\" />\n",
       "<path d=\"M375,275 L475,275\" stroke=\"darkred\" stroke-width=\"3\" fill=\"none\" />\n",
       "<path d=\"M375,325 L475,325\" stroke=\"darkred\" stroke-width=\"3\" fill=\"none\" />\n",
       "<path d=\"M377.5,2.5 L472.5,2.5 L472.5,347.5 L377.5,347.5 Z\" stroke=\"darkred\" fill=\"lightpink\" stroke-linejoin=\"miter\" />\n",
       "<text x=\"385\" y=\"16\" font-size=\"8\" text-anchor=\"start\" font-weight=\"bold\">CPLX</text>\n",
       "<path d=\"M475,25 L825,25\" stroke-width=\"3\" stroke=\"darkred\" stroke-linejoin=\"miter\" fill=\"none\" />\n",
       "<path d=\"M475,75 L825,75\" stroke-width=\"3\" stroke=\"darkred\" stroke-linejoin=\"miter\" fill=\"none\" />\n",
       "<path d=\"M475,125 L825,125\" stroke-width=\"3\" stroke=\"darkred\" stroke-linejoin=\"miter\" fill=\"none\" />\n",
       "<path d=\"M475,175 L825,175\" stroke-width=\"3\" stroke=\"darkred\" stroke-linejoin=\"miter\" fill=\"none\" />\n",
       "<path d=\"M475,225 L825,225\" stroke-width=\"3\" stroke=\"darkred\" stroke-linejoin=\"miter\" fill=\"none\" />\n",
       "<path d=\"M475,275 L825,275\" stroke-width=\"3\" stroke=\"darkred\" stroke-linejoin=\"miter\" fill=\"none\" />\n",
       "<path d=\"M475,325 L825,325\" stroke-width=\"3\" stroke=\"darkred\" stroke-linejoin=\"miter\" fill=\"none\" />\n",
       "<path d=\"M480,5 L820,5 L820,345 L480,345 Z\" stroke=\"black\" fill=\"gold\" stroke-linejoin=\"miter\" />\n",
       "<text x=\"650\" y=\"175\" font-size=\"10\" text-anchor=\"middle\">Unitary</text>\n",
       "<path d=\"M825,25 L925,25\" stroke=\"darkred\" stroke-width=\"3\" fill=\"none\" />\n",
       "<path d=\"M825,75 L925,75\" stroke=\"darkred\" stroke-width=\"3\" fill=\"none\" />\n",
       "<path d=\"M825,125 L925,125\" stroke=\"darkred\" stroke-width=\"3\" fill=\"none\" />\n",
       "<path d=\"M825,175 L925,175\" stroke=\"darkred\" stroke-width=\"3\" fill=\"none\" />\n",
       "<path d=\"M825,225 L925,225\" stroke=\"darkred\" stroke-width=\"3\" fill=\"none\" />\n",
       "<path d=\"M825,275 L925,275\" stroke=\"darkred\" stroke-width=\"3\" fill=\"none\" />\n",
       "<path d=\"M825,325 L925,325\" stroke=\"darkred\" stroke-width=\"3\" fill=\"none\" />\n",
       "<path d=\"M827.5,2.5 L922.5,2.5 L922.5,347.5 L827.5,347.5 Z\" stroke=\"darkred\" fill=\"lightpink\" stroke-linejoin=\"miter\" />\n",
       "<text x=\"835\" y=\"16\" font-size=\"8\" text-anchor=\"start\" font-weight=\"bold\">CPLX</text>\n",
       "<path d=\"M925,25 L1275,25\" stroke-width=\"3\" stroke=\"darkred\" stroke-linejoin=\"miter\" fill=\"none\" />\n",
       "<path d=\"M925,75 L1275,75\" stroke-width=\"3\" stroke=\"darkred\" stroke-linejoin=\"miter\" fill=\"none\" />\n",
       "<path d=\"M925,125 L1275,125\" stroke-width=\"3\" stroke=\"darkred\" stroke-linejoin=\"miter\" fill=\"none\" />\n",
       "<path d=\"M925,175 L1275,175\" stroke-width=\"3\" stroke=\"darkred\" stroke-linejoin=\"miter\" fill=\"none\" />\n",
       "<path d=\"M925,225 L1275,225\" stroke-width=\"3\" stroke=\"darkred\" stroke-linejoin=\"miter\" fill=\"none\" />\n",
       "<path d=\"M925,275 L1275,275\" stroke-width=\"3\" stroke=\"darkred\" stroke-linejoin=\"miter\" fill=\"none\" />\n",
       "<path d=\"M925,325 L1275,325\" stroke-width=\"3\" stroke=\"darkred\" stroke-linejoin=\"miter\" fill=\"none\" />\n",
       "<path d=\"M930,5 L1270,5 L1270,345 L930,345 Z\" stroke=\"black\" fill=\"gold\" stroke-linejoin=\"miter\" />\n",
       "<text x=\"1100\" y=\"175\" font-size=\"10\" text-anchor=\"middle\">Unitary</text>\n",
       "<path d=\"M1275,25 L1375,25\" stroke=\"darkred\" stroke-width=\"3\" fill=\"none\" />\n",
       "<path d=\"M1275,75 L1375,75\" stroke=\"darkred\" stroke-width=\"3\" fill=\"none\" />\n",
       "<path d=\"M1275,125 L1375,125\" stroke=\"darkred\" stroke-width=\"3\" fill=\"none\" />\n",
       "<path d=\"M1275,175 L1375,175\" stroke=\"darkred\" stroke-width=\"3\" fill=\"none\" />\n",
       "<path d=\"M1275,225 L1375,225\" stroke=\"darkred\" stroke-width=\"3\" fill=\"none\" />\n",
       "<path d=\"M1275,275 L1375,275\" stroke=\"darkred\" stroke-width=\"3\" fill=\"none\" />\n",
       "<path d=\"M1275,325 L1375,325\" stroke=\"darkred\" stroke-width=\"3\" fill=\"none\" />\n",
       "<path d=\"M1277.5,2.5 L1372.5,2.5 L1372.5,347.5 L1277.5,347.5 Z\" stroke=\"darkred\" fill=\"lightpink\" stroke-linejoin=\"miter\" />\n",
       "<text x=\"1285\" y=\"16\" font-size=\"8\" text-anchor=\"start\" font-weight=\"bold\">CPLX</text>\n",
       "<path d=\"M1375,25 L1725,25\" stroke-width=\"3\" stroke=\"darkred\" stroke-linejoin=\"miter\" fill=\"none\" />\n",
       "<path d=\"M1375,75 L1725,75\" stroke-width=\"3\" stroke=\"darkred\" stroke-linejoin=\"miter\" fill=\"none\" />\n",
       "<path d=\"M1375,125 L1725,125\" stroke-width=\"3\" stroke=\"darkred\" stroke-linejoin=\"miter\" fill=\"none\" />\n",
       "<path d=\"M1375,175 L1725,175\" stroke-width=\"3\" stroke=\"darkred\" stroke-linejoin=\"miter\" fill=\"none\" />\n",
       "<path d=\"M1375,225 L1725,225\" stroke-width=\"3\" stroke=\"darkred\" stroke-linejoin=\"miter\" fill=\"none\" />\n",
       "<path d=\"M1375,275 L1725,275\" stroke-width=\"3\" stroke=\"darkred\" stroke-linejoin=\"miter\" fill=\"none\" />\n",
       "<path d=\"M1375,325 L1725,325\" stroke-width=\"3\" stroke=\"darkred\" stroke-linejoin=\"miter\" fill=\"none\" />\n",
       "<path d=\"M1380,5 L1720,5 L1720,345 L1380,345 Z\" stroke=\"black\" fill=\"gold\" stroke-linejoin=\"miter\" />\n",
       "<text x=\"1550\" y=\"175\" font-size=\"10\" text-anchor=\"middle\">Unitary</text>\n",
       "<path d=\"M1725,25 L1825,25\" stroke=\"darkred\" stroke-width=\"3\" fill=\"none\" />\n",
       "<path d=\"M1725,75 L1825,75\" stroke=\"darkred\" stroke-width=\"3\" fill=\"none\" />\n",
       "<path d=\"M1725,125 L1825,125\" stroke=\"darkred\" stroke-width=\"3\" fill=\"none\" />\n",
       "<path d=\"M1725,175 L1825,175\" stroke=\"darkred\" stroke-width=\"3\" fill=\"none\" />\n",
       "<path d=\"M1725,225 L1825,225\" stroke=\"darkred\" stroke-width=\"3\" fill=\"none\" />\n",
       "<path d=\"M1725,275 L1825,275\" stroke=\"darkred\" stroke-width=\"3\" fill=\"none\" />\n",
       "<path d=\"M1725,325 L1825,325\" stroke=\"darkred\" stroke-width=\"3\" fill=\"none\" />\n",
       "<path d=\"M1727.5,2.5 L1822.5,2.5 L1822.5,347.5 L1727.5,347.5 Z\" stroke=\"darkred\" fill=\"lightpink\" stroke-linejoin=\"miter\" />\n",
       "<text x=\"1735\" y=\"16\" font-size=\"8\" text-anchor=\"start\" font-weight=\"bold\">CPLX</text>\n",
       "<path d=\"M1825,25 L2175,25\" stroke-width=\"3\" stroke=\"darkred\" stroke-linejoin=\"miter\" fill=\"none\" />\n",
       "<path d=\"M1825,75 L2175,75\" stroke-width=\"3\" stroke=\"darkred\" stroke-linejoin=\"miter\" fill=\"none\" />\n",
       "<path d=\"M1825,125 L2175,125\" stroke-width=\"3\" stroke=\"darkred\" stroke-linejoin=\"miter\" fill=\"none\" />\n",
       "<path d=\"M1825,175 L2175,175\" stroke-width=\"3\" stroke=\"darkred\" stroke-linejoin=\"miter\" fill=\"none\" />\n",
       "<path d=\"M1825,225 L2175,225\" stroke-width=\"3\" stroke=\"darkred\" stroke-linejoin=\"miter\" fill=\"none\" />\n",
       "<path d=\"M1825,275 L2175,275\" stroke-width=\"3\" stroke=\"darkred\" stroke-linejoin=\"miter\" fill=\"none\" />\n",
       "<path d=\"M1825,325 L2175,325\" stroke-width=\"3\" stroke=\"darkred\" stroke-linejoin=\"miter\" fill=\"none\" />\n",
       "<path d=\"M1830,5 L2170,5 L2170,345 L1830,345 Z\" stroke=\"black\" fill=\"gold\" stroke-linejoin=\"miter\" />\n",
       "<text x=\"2000\" y=\"175\" font-size=\"10\" text-anchor=\"middle\">Unitary</text>\n",
       "<path d=\"M2175,25 L2275,25\" stroke=\"darkred\" stroke-width=\"3\" fill=\"none\" />\n",
       "<path d=\"M2175,75 L2275,75\" stroke=\"darkred\" stroke-width=\"3\" fill=\"none\" />\n",
       "<path d=\"M2175,125 L2275,125\" stroke=\"darkred\" stroke-width=\"3\" fill=\"none\" />\n",
       "<path d=\"M2175,175 L2275,175\" stroke=\"darkred\" stroke-width=\"3\" fill=\"none\" />\n",
       "<path d=\"M2175,225 L2275,225\" stroke=\"darkred\" stroke-width=\"3\" fill=\"none\" />\n",
       "<path d=\"M2175,275 L2275,275\" stroke=\"darkred\" stroke-width=\"3\" fill=\"none\" />\n",
       "<path d=\"M2175,325 L2275,325\" stroke=\"darkred\" stroke-width=\"3\" fill=\"none\" />\n",
       "<path d=\"M2177.5,2.5 L2272.5,2.5 L2272.5,347.5 L2177.5,347.5 Z\" stroke=\"darkred\" fill=\"lightpink\" stroke-linejoin=\"miter\" />\n",
       "<text x=\"2185\" y=\"16\" font-size=\"8\" text-anchor=\"start\" font-weight=\"bold\">CPLX</text>\n",
       "<path d=\"M2275,25.0 L2290,25.0\" stroke-width=\"3\" stroke=\"darkred\" stroke-linejoin=\"miter\" fill=\"none\" />\n",
       "<path d=\"M2275,75.0 L2290,75.0\" stroke-width=\"3\" stroke=\"darkred\" stroke-linejoin=\"miter\" fill=\"none\" />\n",
       "<path d=\"M2275,125.0 L2290,125.0\" stroke-width=\"3\" stroke=\"darkred\" stroke-linejoin=\"miter\" fill=\"none\" />\n",
       "<path d=\"M2275,175.0 L2290,175.0\" stroke-width=\"3\" stroke=\"darkred\" stroke-linejoin=\"miter\" fill=\"none\" />\n",
       "<path d=\"M2275,225.0 L2290,225.0\" stroke-width=\"3\" stroke=\"darkred\" stroke-linejoin=\"miter\" fill=\"none\" />\n",
       "<path d=\"M2275,275.0 L2290,275.0\" stroke-width=\"3\" stroke=\"darkred\" stroke-linejoin=\"miter\" fill=\"none\" />\n",
       "<path d=\"M2275,325.0 L2290,325.0\" stroke-width=\"3\" stroke=\"darkred\" stroke-linejoin=\"miter\" fill=\"none\" />\n",
       "<text x=\"2300\" y=\"28.0\" font-size=\"8\" text-anchor=\"end\">0</text>\n",
       "<text x=\"2300\" y=\"78.0\" font-size=\"8\" text-anchor=\"end\">1</text>\n",
       "<text x=\"2300\" y=\"128.0\" font-size=\"8\" text-anchor=\"end\">2</text>\n",
       "<text x=\"2300\" y=\"178.0\" font-size=\"8\" text-anchor=\"end\">3</text>\n",
       "<text x=\"2300\" y=\"228.0\" font-size=\"8\" text-anchor=\"end\">4</text>\n",
       "<text x=\"2300\" y=\"278.0\" font-size=\"8\" text-anchor=\"end\">5</text>\n",
       "<text x=\"2300\" y=\"328.0\" font-size=\"8\" text-anchor=\"end\">6</text>\n",
       "<text x=\"0\" y=\"28.0\" font-size=\"8\" text-anchor=\"start\">0</text>\n",
       "<text x=\"0\" y=\"78.0\" font-size=\"8\" text-anchor=\"start\">1</text>\n",
       "<text x=\"0\" y=\"128.0\" font-size=\"8\" text-anchor=\"start\">2</text>\n",
       "<text x=\"0\" y=\"178.0\" font-size=\"8\" text-anchor=\"start\">3</text>\n",
       "<text x=\"0\" y=\"228.0\" font-size=\"8\" text-anchor=\"start\">4</text>\n",
       "<text x=\"0\" y=\"278.0\" font-size=\"8\" text-anchor=\"start\">5</text>\n",
       "<text x=\"0\" y=\"328.0\" font-size=\"8\" text-anchor=\"start\">6</text>\n",
       "</svg>"
      ],
      "text/plain": [
       "<drawsvg.drawing.Drawing at 0x20ebeea8910>"
      ]
     },
     "execution_count": 23,
     "metadata": {},
     "output_type": "execute_result"
    }
   ],
   "source": [
    "def create_circuit(x, t_params, omega_params):\n",
    "    c = Circuit(m)\n",
    "    for i in range(L):\n",
    "        c.add(0, comp.Unitary(U=pcvl.Matrix(U(x, t_params[i]))))\n",
    "        c.add(0, brickwork(omega_params[i*(m-1):(i+1)*(m-1)], m))\n",
    "    return c\n",
    "\n",
    "c = create_circuit(X_train[1], t_params, omega_params)\n",
    "pcvl.pdisplay(c)"
   ]
  },
  {
   "cell_type": "code",
   "execution_count": 24,
   "metadata": {},
   "outputs": [],
   "source": [
    "def compute_probabilities(x, t_params, omega_params):\n",
    "    processor = pcvl.Processor(\"SLOS\", create_circuit(x, t_params, omega_params))\n",
    "    processor.with_input(input_state)\n",
    "    sampler = pcvl.algorithm.Sampler(processor)\n",
    "    prob_dist = sampler.probs()\n",
    "    return prob_dist\n",
    "\n",
    "# processor = pcvl.Processor(\"SLOS\", create_circuit(X_train[2], t_params, omega_params))\n",
    "# processor.with_input(input_state)\n",
    "\n",
    "# sampler = pcvl.algorithm.Sampler(processor)\n",
    "# prob_dist = sampler.probs()\n",
    "\n",
    "# argmax = np.argmax(list(prob_dist['results'].values()))\n",
    "# most_probable_output = list(prob_dist['results'].keys())[argmax]\n",
    "# most_probable_probability = list(prob_dist['results'].values())[argmax]\n",
    "\n",
    "# print(\"The most probable output is\", most_probable_output, \"with probability\", most_probable_probability)"
   ]
  },
  {
   "cell_type": "code",
   "execution_count": 25,
   "metadata": {},
   "outputs": [],
   "source": [
    "# Convert from the repartition of photon in the most probable output to a label\n",
    "def output_to_label(output):\n",
    "    return int(np.round(np.average(range(len(output)), weights=np.exp(output))*3/2))       # Scale the output to the range [0, 9]\n",
    "\n",
    "def confidence_array(prob_dist):\n",
    "    confidence = np.zeros(NUM_CLASSES)\n",
    "    for output, prob in prob_dist['results'].items():\n",
    "        label = output_to_label(output)\n",
    "        confidence[label] += prob\n",
    "    return confidence\n",
    "\n",
    "# print(output_to_label(most_probable_output))"
   ]
  },
  {
   "cell_type": "code",
   "execution_count": 26,
   "metadata": {},
   "outputs": [],
   "source": [
    "def sparse_categorical_crossentropy(y_true, y_pred):\n",
    "    return -np.log(y_pred[y_true])\n",
    "\n",
    "def sparse_categorical_accuracy(y_true, y_pred):\n",
    "    return np.argmax(y_pred) == y_true\n",
    "\n",
    "def model_accuracy(X, y, t_params, omega_params):\n",
    "    accuracy = 0\n",
    "    for i in range(X.shape[0]):\n",
    "        prob_dist = compute_probabilities(X[i], t_params, omega_params)\n",
    "        confidence = confidence_array(prob_dist)\n",
    "        y_pred = np.argmax(confidence)\n",
    "        y_true = np.argmax(y[i])\n",
    "        accuracy += sparse_categorical_accuracy(y_true, confidence)\n",
    "    return accuracy/X.shape[0]\n"
   ]
  },
  {
   "cell_type": "code",
   "execution_count": 27,
   "metadata": {},
   "outputs": [
    {
     "name": "stdout",
     "output_type": "stream",
     "text": [
      "Updated t_params: [85.59587425 71.76490126 62.47481577 75.02385497 35.97334965]\n",
      "Updated omega_params: [4.78194771 1.83819531 1.49357521 5.13284721 2.74013361 3.5715839\n",
      " 1.81107495 0.22548475 1.69902984 5.13933282 3.82855878 4.48161959\n",
      " 0.57647882 2.23618921 4.09755847 5.80799862 0.18382106 3.86922377\n",
      " 1.64029257 5.61460955 0.16882566 2.67724135 1.63497052 2.39213942\n",
      " 0.45926031 4.78339048 1.77962776 0.60335195 2.09930755 4.63776232]\n",
      "Loss: 1.797839152220595\n"
     ]
    }
   ],
   "source": [
    "def minimize_step(x, y_true, t_params, omega_params, learning_rate=0.01):\n",
    "    # Compute the probabilities\n",
    "    prob_dist = compute_probabilities(x, t_params, omega_params)\n",
    "    y_pred = confidence_array(prob_dist)\n",
    "    \n",
    "    # Compute the loss\n",
    "    loss = sparse_categorical_crossentropy(np.argmax(y_true), y_pred)\n",
    "    \n",
    "    # Compute the gradients (numerical gradient approximation)\n",
    "    grad_t_params = np.zeros_like(t_params)\n",
    "    grad_omega_params = np.zeros_like(omega_params)\n",
    "    \n",
    "    epsilon = 1e-5\n",
    "    for i in range(len(t_params)):\n",
    "        t_params[i] += epsilon\n",
    "        prob_dist = compute_probabilities(x, t_params, omega_params)\n",
    "        y_pred = confidence_array(prob_dist)\n",
    "        loss_plus = sparse_categorical_crossentropy(np.argmax(y_true), y_pred)\n",
    "        \n",
    "        grad_t_params[i] = (loss_plus - loss) / epsilon\n",
    "        t_params[i] -= epsilon\n",
    "    \n",
    "    for i in range(len(omega_params)):\n",
    "        omega_params[i] += epsilon\n",
    "        prob_dist = compute_probabilities(x, t_params, omega_params)\n",
    "        y_pred = confidence_array(prob_dist)\n",
    "        loss_plus = sparse_categorical_crossentropy(np.argmax(y_true), y_pred)\n",
    "        \n",
    "        grad_omega_params[i] = (loss_plus - loss) / epsilon\n",
    "        omega_params[i] -= epsilon\n",
    "    \n",
    "    # Update the parameters\n",
    "    t_params -= learning_rate * grad_t_params\n",
    "    omega_params -= learning_rate * grad_omega_params\n",
    "    \n",
    "    return t_params, omega_params, loss\n",
    "\n",
    "# Example usage\n",
    "x = X_train[0]\n",
    "y_true = y_train[0]\n",
    "t_params, omega_params, loss = minimize_step(x, y_true, t_params, omega_params)\n",
    "print(\"Updated t_params:\", t_params)\n",
    "print(\"Updated omega_params:\", omega_params)\n",
    "print(\"Loss:\", loss)"
   ]
  },
  {
   "cell_type": "code",
   "execution_count": 29,
   "metadata": {},
   "outputs": [
    {
     "name": "stdout",
     "output_type": "stream",
     "text": [
      "Epoch 0\n"
     ]
    },
    {
     "name": "stderr",
     "output_type": "stream",
     "text": [
      "Training:   0%|          | 1/6000 [00:08<14:13:36,  8.54s/it]"
     ]
    },
    {
     "name": "stdout",
     "output_type": "stream",
     "text": [
      "Loss: 1.7963455742298455\n"
     ]
    },
    {
     "name": "stderr",
     "output_type": "stream",
     "text": [
      "Training:   2%|▏         | 101/6000 [15:00<15:13:21,  9.29s/it]"
     ]
    },
    {
     "name": "stdout",
     "output_type": "stream",
     "text": [
      "Loss: 1.547817214898068\n"
     ]
    },
    {
     "name": "stderr",
     "output_type": "stream",
     "text": [
      "Training:   3%|▎         | 176/6000 [26:53<14:49:51,  9.17s/it]\n"
     ]
    },
    {
     "ename": "KeyboardInterrupt",
     "evalue": "",
     "output_type": "error",
     "traceback": [
      "\u001b[1;31m---------------------------------------------------------------------------\u001b[0m",
      "\u001b[1;31mKeyboardInterrupt\u001b[0m                         Traceback (most recent call last)",
      "Cell \u001b[1;32mIn[29], line 15\u001b[0m\n\u001b[0;32m     12\u001b[0m         \u001b[38;5;28mprint\u001b[39m(\u001b[38;5;124m\"\u001b[39m\u001b[38;5;124mValidation accuracy:\u001b[39m\u001b[38;5;124m\"\u001b[39m, model_accuracy(X_val, y_val, t_params, omega_params))\n\u001b[0;32m     13\u001b[0m     \u001b[38;5;28;01mreturn\u001b[39;00m t_params, omega_params\n\u001b[1;32m---> 15\u001b[0m t_params, omega_params \u001b[38;5;241m=\u001b[39m \u001b[43mtrain\u001b[49m\u001b[43m(\u001b[49m\u001b[43mX_train\u001b[49m\u001b[43m,\u001b[49m\u001b[43m \u001b[49m\u001b[43my_train\u001b[49m\u001b[43m,\u001b[49m\u001b[43m \u001b[49m\u001b[43mX_val\u001b[49m\u001b[43m,\u001b[49m\u001b[43m \u001b[49m\u001b[43my_val\u001b[49m\u001b[43m,\u001b[49m\u001b[43m \u001b[49m\u001b[43mt_params\u001b[49m\u001b[43m,\u001b[49m\u001b[43m \u001b[49m\u001b[43momega_params\u001b[49m\u001b[43m,\u001b[49m\u001b[43m \u001b[49m\u001b[43mlearning_rate\u001b[49m\u001b[38;5;241;43m=\u001b[39;49m\u001b[38;5;241;43m0.01\u001b[39;49m\u001b[43m,\u001b[49m\u001b[43m \u001b[49m\u001b[43mepochs\u001b[49m\u001b[38;5;241;43m=\u001b[39;49m\u001b[38;5;241;43m1\u001b[39;49m\u001b[43m)\u001b[49m\n",
      "Cell \u001b[1;32mIn[29], line 9\u001b[0m, in \u001b[0;36mtrain\u001b[1;34m(X_train, y_train, X_val, y_val, t_params, omega_params, learning_rate, epochs)\u001b[0m\n\u001b[0;32m      7\u001b[0m x \u001b[38;5;241m=\u001b[39m X_train[i]\n\u001b[0;32m      8\u001b[0m y_true \u001b[38;5;241m=\u001b[39m y_train[i]\n\u001b[1;32m----> 9\u001b[0m t_params, omega_params, loss \u001b[38;5;241m=\u001b[39m \u001b[43mminimize_step\u001b[49m\u001b[43m(\u001b[49m\u001b[43mx\u001b[49m\u001b[43m,\u001b[49m\u001b[43m \u001b[49m\u001b[43my_true\u001b[49m\u001b[43m,\u001b[49m\u001b[43m \u001b[49m\u001b[43mt_params\u001b[49m\u001b[43m,\u001b[49m\u001b[43m \u001b[49m\u001b[43momega_params\u001b[49m\u001b[43m,\u001b[49m\u001b[43m \u001b[49m\u001b[43mlearning_rate\u001b[49m\u001b[43m)\u001b[49m\n\u001b[0;32m     10\u001b[0m \u001b[38;5;28;01mif\u001b[39;00m i \u001b[38;5;241m%\u001b[39m \u001b[38;5;241m100\u001b[39m \u001b[38;5;241m==\u001b[39m \u001b[38;5;241m0\u001b[39m:\n\u001b[0;32m     11\u001b[0m     \u001b[38;5;28mprint\u001b[39m(\u001b[38;5;124m\"\u001b[39m\u001b[38;5;124mLoss:\u001b[39m\u001b[38;5;124m\"\u001b[39m, loss)\n",
      "Cell \u001b[1;32mIn[27], line 26\u001b[0m, in \u001b[0;36mminimize_step\u001b[1;34m(x, y_true, t_params, omega_params, learning_rate)\u001b[0m\n\u001b[0;32m     24\u001b[0m omega_params[i] \u001b[38;5;241m+\u001b[39m\u001b[38;5;241m=\u001b[39m epsilon\n\u001b[0;32m     25\u001b[0m prob_dist \u001b[38;5;241m=\u001b[39m compute_probabilities(x, t_params, omega_params)\n\u001b[1;32m---> 26\u001b[0m y_pred \u001b[38;5;241m=\u001b[39m \u001b[43mconfidence_array\u001b[49m\u001b[43m(\u001b[49m\u001b[43mprob_dist\u001b[49m\u001b[43m)\u001b[49m\n\u001b[0;32m     27\u001b[0m loss_plus \u001b[38;5;241m=\u001b[39m sparse_categorical_crossentropy(np\u001b[38;5;241m.\u001b[39margmax(y_true), y_pred)\n\u001b[0;32m     29\u001b[0m grad_omega_params[i] \u001b[38;5;241m=\u001b[39m (loss_plus \u001b[38;5;241m-\u001b[39m loss) \u001b[38;5;241m/\u001b[39m epsilon\n",
      "Cell \u001b[1;32mIn[25], line 8\u001b[0m, in \u001b[0;36mconfidence_array\u001b[1;34m(prob_dist)\u001b[0m\n\u001b[0;32m      6\u001b[0m confidence \u001b[38;5;241m=\u001b[39m np\u001b[38;5;241m.\u001b[39mzeros(NUM_CLASSES)\n\u001b[0;32m      7\u001b[0m \u001b[38;5;28;01mfor\u001b[39;00m output, prob \u001b[38;5;129;01min\u001b[39;00m prob_dist[\u001b[38;5;124m'\u001b[39m\u001b[38;5;124mresults\u001b[39m\u001b[38;5;124m'\u001b[39m]\u001b[38;5;241m.\u001b[39mitems():\n\u001b[1;32m----> 8\u001b[0m     label \u001b[38;5;241m=\u001b[39m \u001b[43moutput_to_label\u001b[49m\u001b[43m(\u001b[49m\u001b[43moutput\u001b[49m\u001b[43m)\u001b[49m\n\u001b[0;32m      9\u001b[0m     confidence[label] \u001b[38;5;241m+\u001b[39m\u001b[38;5;241m=\u001b[39m prob\n\u001b[0;32m     10\u001b[0m \u001b[38;5;28;01mreturn\u001b[39;00m confidence\n",
      "Cell \u001b[1;32mIn[25], line 3\u001b[0m, in \u001b[0;36moutput_to_label\u001b[1;34m(output)\u001b[0m\n\u001b[0;32m      2\u001b[0m \u001b[38;5;28;01mdef\u001b[39;00m \u001b[38;5;21moutput_to_label\u001b[39m(output):\n\u001b[1;32m----> 3\u001b[0m     \u001b[38;5;28;01mreturn\u001b[39;00m \u001b[38;5;28mint\u001b[39m(np\u001b[38;5;241m.\u001b[39mround(np\u001b[38;5;241m.\u001b[39maverage(\u001b[38;5;28mrange\u001b[39m(\u001b[38;5;28mlen\u001b[39m(output)), weights\u001b[38;5;241m=\u001b[39m\u001b[43mnp\u001b[49m\u001b[38;5;241;43m.\u001b[39;49m\u001b[43mexp\u001b[49m\u001b[43m(\u001b[49m\u001b[43moutput\u001b[49m\u001b[43m)\u001b[49m)\u001b[38;5;241m*\u001b[39m\u001b[38;5;241m3\u001b[39m\u001b[38;5;241m/\u001b[39m\u001b[38;5;241m2\u001b[39m))\n",
      "\u001b[1;31mKeyboardInterrupt\u001b[0m: "
     ]
    }
   ],
   "source": [
    "# Training loop\n",
    "\n",
    "def train(X_train, y_train, X_val, y_val, t_params, omega_params, learning_rate=0.01, epochs=1):\n",
    "    for epoch in range(epochs):\n",
    "        print(\"Epoch\", epoch)\n",
    "        for i in tqdm(range(len(X_train)), desc=\"Training\"):\n",
    "            x = X_train[i]\n",
    "            y_true = y_train[i]\n",
    "            t_params, omega_params, loss = minimize_step(x, y_true, t_params, omega_params, learning_rate)\n",
    "            if i % 100 == 0:\n",
    "                print(\"Loss:\", loss)\n",
    "        print(\"Validation accuracy:\", model_accuracy(X_val, y_val, t_params, omega_params))\n",
    "    return t_params, omega_params\n",
    "\n",
    "t_params, omega_params = train(X_train, y_train, X_val, y_val, t_params, omega_params, learning_rate=0.01, epochs=1)"
   ]
  }
 ],
 "metadata": {
  "kernelspec": {
   "display_name": ".venv",
   "language": "python",
   "name": "python3"
  },
  "language_info": {
   "codemirror_mode": {
    "name": "ipython",
    "version": 3
   },
   "file_extension": ".py",
   "mimetype": "text/x-python",
   "name": "python",
   "nbconvert_exporter": "python",
   "pygments_lexer": "ipython3",
   "version": "3.9.6"
  }
 },
 "nbformat": 4,
 "nbformat_minor": 2
}
