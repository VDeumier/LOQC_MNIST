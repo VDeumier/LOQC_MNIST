{
 "cells": [
  {
   "cell_type": "markdown",
   "metadata": {},
   "source": [
    "# Perceval Quest\n",
    "#### Author: *Valentin Deumier*\n",
    "\n",
    "Our goal is to start by creating a 'classical' neural network and train it on the famous MNIST handwritten digits dataset, and then try to upgrade it by using Linear Optical Quantum Computing, in hope to increase the accuracy of the model and lower the duration of training.\n",
    "\n",
    "### <u>1: A classical convolutional NN on the reduced MNIST data set</u>"
   ]
  },
  {
   "cell_type": "markdown",
   "metadata": {},
   "source": [
    "Let's first start by loading the librairies and visualize the data."
   ]
  },
  {
   "cell_type": "code",
   "execution_count": 1,
   "metadata": {},
   "outputs": [],
   "source": [
    "import numpy as np\n",
    "import matplotlib.pyplot as plt\n",
    "import pandas as pd\n",
    "from sklearn import metrics\n",
    "\n",
    "import tensorflow as tf\n",
    "from tensorflow.keras.models import Sequential\n",
    "from tensorflow.keras.layers import Conv2D, MaxPooling2D, Flatten, Dense, Dropout\n",
    "from tensorflow.keras.utils import to_categorical\n",
    "from tensorflow.keras.models import Model"
   ]
  },
  {
   "cell_type": "code",
   "execution_count": 2,
   "metadata": {},
   "outputs": [],
   "source": [
    "# Parameters\n",
    "IMG_SIZE = 28\n",
    "NUM_CLASSES = 10\n",
    "BATCH_SIZE = 200\n",
    "EPOCHS = 15"
   ]
  },
  {
   "cell_type": "code",
   "execution_count": 3,
   "metadata": {},
   "outputs": [
    {
     "name": "stdout",
     "output_type": "stream",
     "text": [
      "Train data shape: (6000, 785)\n",
      "Validation data shape: (1000, 785)\n",
      "label\n",
      "1    11.60\n",
      "3    10.60\n",
      "6    10.45\n",
      "7    10.40\n",
      "2    10.03\n",
      "8     9.60\n",
      "4     9.58\n",
      "9     9.35\n",
      "0     9.28\n",
      "5     9.10\n",
      "Name: count, dtype: float64\n",
      "Max difference of proportion between full and subset datasets: 0.59 %\n"
     ]
    },
    {
     "data": {
      "image/png": "[encoded data removed]",
      "text/plain": [
       "<Figure size 2000x2000 with 10 Axes>"
      ]
     },
     "metadata": {},
     "output_type": "display_data"
    }
   ],
   "source": [
    "# Import the dataset\n",
    "train_data = pd.read_csv('mnist_train.csv')\n",
    "val_data = pd.read_csv('mnist_test.csv')\n",
    "set_proportions = np.round(train_data['label'].value_counts()/len(train_data)*100, 2)\n",
    "\n",
    "# Select a subset of the dataset\n",
    "train_data = train_data.sample(frac=0.1, random_state=1)      # 10% of the data, random_state=1 for reproducibility\n",
    "val_data = val_data.sample(frac=0.1, random_state=1)\n",
    "print('Train data shape:', train_data.shape)\n",
    "print('Validation data shape:', val_data.shape)\n",
    "\n",
    "# Check proportion of each class\n",
    "subset_proportions = np.round(train_data['label'].value_counts()/len(train_data)*100, 2)\n",
    "print(subset_proportions)\n",
    "print('Max difference of proportion between full and subset datasets:', np.round(np.max(np.abs(set_proportions - subset_proportions)), 2), '%')    \n",
    "# Proportions are similar between the full and subset datasets\n",
    "\n",
    "# Extract the features and labels\n",
    "X_train = train_data.iloc[:, 1:].values.reshape(-1, IMG_SIZE, IMG_SIZE, 1)/255\n",
    "y_train = train_data.iloc[:, 0].values\n",
    "X_val = val_data.iloc[:, 1:].values.reshape(-1, IMG_SIZE, IMG_SIZE, 1)/255\n",
    "y_val = val_data.iloc[:, 0].values\n",
    "\n",
    "# One-hot encode the labels\n",
    "y_train = to_categorical(y_train, 10)\n",
    "y_val = to_categorical(y_val, 10)\n",
    "\n",
    "# Visualize the training data\n",
    "\n",
    "def plot_digits(digits, labels, num_digits=10):\n",
    "    fig, axes = plt.subplots(1, num_digits, figsize=(20, 20))\n",
    "    for i in range(num_digits):\n",
    "        axes[i].imshow(digits[i], cmap='gray_r')\n",
    "        axes[i].set_title(labels[i])\n",
    "        axes[i].axis('off')\n",
    "    plt.show()\n",
    "\n",
    "plot_digits(X_train, y_train.argmax(axis=1))"
   ]
  },
  {
   "cell_type": "markdown",
   "metadata": {},
   "source": [
    "We build the CNN using TensorFlow."
   ]
  },
  {
   "cell_type": "code",
   "execution_count": 4,
   "metadata": {},
   "outputs": [
    {
     "name": "stderr",
     "output_type": "stream",
     "text": [
      "c:\\Users\\valen\\OneDrive\\Bureau\\LOQC MNIST\\.venv\\lib\\site-packages\\keras\\src\\layers\\convolutional\\base_conv.py:107: UserWarning: Do not pass an `input_shape`/`input_dim` argument to a layer. When using Sequential models, prefer using an `Input(shape)` object as the first layer in the model instead.\n",
      "  super().__init__(activity_regularizer=activity_regularizer, **kwargs)\n"
     ]
    },
    {
     "name": "stdout",
     "output_type": "stream",
     "text": [
      "Epoch 1/15\n",
      "\u001b[1m30/30\u001b[0m \u001b[32m━━━━━━━━━━━━━━━━━━━━\u001b[0m\u001b[37m\u001b[0m \u001b[1m10s\u001b[0m 154ms/step - accuracy: 0.2516 - loss: 2.1635 - val_accuracy: 0.6770 - val_loss: 1.1820\n",
      "Epoch 2/15\n",
      "\u001b[1m30/30\u001b[0m \u001b[32m━━━━━━━━━━━━━━━━━━━━\u001b[0m\u001b[37m\u001b[0m \u001b[1m5s\u001b[0m 165ms/step - accuracy: 0.7131 - loss: 0.9630 - val_accuracy: 0.8470 - val_loss: 0.5478\n",
      "Epoch 3/15\n",
      "\u001b[1m30/30\u001b[0m \u001b[32m━━━━━━━━━━━━━━━━━━━━\u001b[0m\u001b[37m\u001b[0m \u001b[1m4s\u001b[0m 124ms/step - accuracy: 0.8556 - loss: 0.4793 - val_accuracy: 0.8960 - val_loss: 0.3715\n",
      "Epoch 4/15\n",
      "\u001b[1m30/30\u001b[0m \u001b[32m━━━━━━━━━━━━━━━━━━━━\u001b[0m\u001b[37m\u001b[0m \u001b[1m4s\u001b[0m 114ms/step - accuracy: 0.8970 - loss: 0.3399 - val_accuracy: 0.9180 - val_loss: 0.2910\n",
      "Epoch 5/15\n",
      "\u001b[1m30/30\u001b[0m \u001b[32m━━━━━━━━━━━━━━━━━━━━\u001b[0m\u001b[37m\u001b[0m \u001b[1m4s\u001b[0m 116ms/step - accuracy: 0.9223 - loss: 0.2668 - val_accuracy: 0.9250 - val_loss: 0.2591\n",
      "Epoch 6/15\n",
      "\u001b[1m30/30\u001b[0m \u001b[32m━━━━━━━━━━━━━━━━━━━━\u001b[0m\u001b[37m\u001b[0m \u001b[1m4s\u001b[0m 115ms/step - accuracy: 0.9408 - loss: 0.2076 - val_accuracy: 0.9320 - val_loss: 0.2235\n",
      "Epoch 7/15\n",
      "\u001b[1m30/30\u001b[0m \u001b[32m━━━━━━━━━━━━━━━━━━━━\u001b[0m\u001b[37m\u001b[0m \u001b[1m3s\u001b[0m 113ms/step - accuracy: 0.9489 - loss: 0.1755 - val_accuracy: 0.9390 - val_loss: 0.1716\n",
      "Epoch 8/15\n",
      "\u001b[1m30/30\u001b[0m \u001b[32m━━━━━━━━━━━━━━━━━━━━\u001b[0m\u001b[37m\u001b[0m \u001b[1m4s\u001b[0m 136ms/step - accuracy: 0.9563 - loss: 0.1474 - val_accuracy: 0.9400 - val_loss: 0.1912\n",
      "Epoch 9/15\n",
      "\u001b[1m30/30\u001b[0m \u001b[32m━━━━━━━━━━━━━━━━━━━━\u001b[0m\u001b[37m\u001b[0m \u001b[1m4s\u001b[0m 125ms/step - accuracy: 0.9539 - loss: 0.1538 - val_accuracy: 0.9490 - val_loss: 0.1516\n",
      "Epoch 10/15\n",
      "\u001b[1m30/30\u001b[0m \u001b[32m━━━━━━━━━━━━━━━━━━━━\u001b[0m\u001b[37m\u001b[0m \u001b[1m4s\u001b[0m 125ms/step - accuracy: 0.9644 - loss: 0.1171 - val_accuracy: 0.9500 - val_loss: 0.1584\n",
      "Epoch 11/15\n",
      "\u001b[1m30/30\u001b[0m \u001b[32m━━━━━━━━━━━━━━━━━━━━\u001b[0m\u001b[37m\u001b[0m \u001b[1m4s\u001b[0m 130ms/step - accuracy: 0.9710 - loss: 0.0999 - val_accuracy: 0.9520 - val_loss: 0.1462\n",
      "Epoch 12/15\n",
      "\u001b[1m30/30\u001b[0m \u001b[32m━━━━━━━━━━━━━━━━━━━━\u001b[0m\u001b[37m\u001b[0m \u001b[1m4s\u001b[0m 123ms/step - accuracy: 0.9726 - loss: 0.0942 - val_accuracy: 0.9570 - val_loss: 0.1402\n",
      "Epoch 13/15\n",
      "\u001b[1m30/30\u001b[0m \u001b[32m━━━━━━━━━━━━━━━━━━━━\u001b[0m\u001b[37m\u001b[0m \u001b[1m4s\u001b[0m 118ms/step - accuracy: 0.9764 - loss: 0.0790 - val_accuracy: 0.9510 - val_loss: 0.1345\n",
      "Epoch 14/15\n",
      "\u001b[1m30/30\u001b[0m \u001b[32m━━━━━━━━━━━━━━━━━━━━\u001b[0m\u001b[37m\u001b[0m \u001b[1m4s\u001b[0m 116ms/step - accuracy: 0.9820 - loss: 0.0613 - val_accuracy: 0.9610 - val_loss: 0.1195\n",
      "Epoch 15/15\n",
      "\u001b[1m30/30\u001b[0m \u001b[32m━━━━━━━━━━━━━━━━━━━━\u001b[0m\u001b[37m\u001b[0m \u001b[1m3s\u001b[0m 108ms/step - accuracy: 0.9810 - loss: 0.0619 - val_accuracy: 0.9580 - val_loss: 0.1197\n",
      "Test loss: 0.11965575814247131\n",
      "Test accuracy: 0.9580000042915344\n"
     ]
    }
   ],
   "source": [
    "model = Sequential()\n",
    "\n",
    "# Add convolutional layers\n",
    "model.add(Conv2D(32, kernel_size=(3, 3), activation='relu', input_shape=(IMG_SIZE, IMG_SIZE, 1)))\n",
    "model.add(MaxPooling2D(pool_size=(2, 2)))\n",
    "model.add(Conv2D(64, kernel_size=(3, 3), activation='relu'))\n",
    "model.add(MaxPooling2D(pool_size=(2, 2)))\n",
    "model.add(Conv2D(128, kernel_size=(3, 3), activation='relu'))\n",
    "model.add(MaxPooling2D(pool_size=(2, 2)))\n",
    "\n",
    "# Flatten the output\n",
    "model.add(Flatten())\n",
    "\n",
    "# Add dense layers\n",
    "model.add(Dense(128, activation='relu'))\n",
    "model.add(Dense(64, activation='relu'))\n",
    "model.add(Dense(32, activation='relu'))\n",
    "model.add(Dense(10, activation='softmax'))\n",
    "\n",
    "# Compile the model\n",
    "model.compile(optimizer='adam', loss='categorical_crossentropy', metrics=['accuracy'])\n",
    "\n",
    "# Train the model\n",
    "model.fit(X_train, y_train, validation_data=(X_val, y_val), epochs=EPOCHS, batch_size=BATCH_SIZE)\n",
    "\n",
    "# Evaluate the model\n",
    "score = model.evaluate(X_val, y_val, verbose=0)\n",
    "print('Test loss:', score[0])\n",
    "print('Test accuracy:', score[1])"
   ]
  },
  {
   "cell_type": "markdown",
   "metadata": {},
   "source": [
    "We can see that the model has a high accuracy on the test set. Let's visualize the digits that it gets wrong."
   ]
  },
  {
   "cell_type": "code",
   "execution_count": 5,
   "metadata": {},
   "outputs": [
    {
     "name": "stdout",
     "output_type": "stream",
     "text": [
      "\u001b[1m32/32\u001b[0m \u001b[32m━━━━━━━━━━━━━━━━━━━━\u001b[0m\u001b[37m\u001b[0m \u001b[1m1s\u001b[0m 18ms/step\n"
     ]
    },
    {
     "data": {
      "image/png": "[encoded data removed]",
      "text/plain": [
       "<Figure size 2000x2000 with 10 Axes>"
      ]
     },
     "metadata": {},
     "output_type": "display_data"
    },
    {
     "data": {
      "image/png": "[encoded data removed]",
      "text/plain": [
       "<Figure size 2000x2000 with 10 Axes>"
      ]
     },
     "metadata": {},
     "output_type": "display_data"
    }
   ],
   "source": [
    "# Make predictions on the validation set\n",
    "y_pred = model.predict(X_val)\n",
    "y_pred_classes = np.argmax(y_pred, axis=1)\n",
    "y_true = np.argmax(y_val, axis=1)\n",
    "\n",
    "# Identify the indices where the predictions are incorrect\n",
    "incorrect_indices = np.where(y_pred_classes != y_true)[0]\n",
    "\n",
    "# Identify the indices where the predictions are correct\n",
    "correct_indices = np.where(y_pred_classes == y_true)[0]\n",
    "\n",
    "# Display some of the incorrect predictions\n",
    "def plot_wrong_digits(digits, labels, num_digits=10):\n",
    "    fig, axes = plt.subplots(1, num_digits, figsize=(20, 20))\n",
    "    for i in range(num_digits):\n",
    "        axes[i].imshow(digits[i], cmap='gray_r')\n",
    "        axes[i].set_title('True: {}\\nPredicted: {}'.format(labels[i], y_pred_classes[incorrect_indices[i]]))\n",
    "        axes[i].axis('off')\n",
    "    plt.show()\n",
    "\n",
    "# Display some of the correct predictions\n",
    "def plot_correct_digits(digits, labels, num_digits=10):\n",
    "    fig, axes = plt.subplots(1, num_digits, figsize=(20, 20))\n",
    "    for i in range(num_digits):\n",
    "        axes[i].imshow(digits[i], cmap='gray_r')\n",
    "        axes[i].set_title('True: {}\\nPredicted: {}'.format(labels[i], y_pred_classes[correct_indices[i]]))\n",
    "        axes[i].axis('off')\n",
    "    plt.show()\n",
    "\n",
    "plot_wrong_digits(X_val[incorrect_indices], y_true[incorrect_indices])\n",
    "plot_correct_digits(X_val[correct_indices], y_true[correct_indices])"
   ]
  },
  {
   "cell_type": "markdown",
   "metadata": {},
   "source": [
    "Just for testing purposes, let's try to draw our own digits and give it to the model."
   ]
  },
  {
   "cell_type": "code",
   "execution_count": 8,
   "metadata": {},
   "outputs": [
    {
     "name": "stdout",
     "output_type": "stream",
     "text": [
      "\u001b[1m1/1\u001b[0m \u001b[32m━━━━━━━━━━━━━━━━━━━━\u001b[0m\u001b[37m\u001b[0m \u001b[1m0s\u001b[0m 138ms/step\n"
     ]
    },
    {
     "data": {
      "image/png": "[encoded data removed]",
      "text/plain": [
       "<Figure size 640x480 with 1 Axes>"
      ]
     },
     "metadata": {},
     "output_type": "display_data"
    },
    {
     "name": "stdout",
     "output_type": "stream",
     "text": [
      "\u001b[1m1/1\u001b[0m \u001b[32m━━━━━━━━━━━━━━━━━━━━\u001b[0m\u001b[37m\u001b[0m \u001b[1m0s\u001b[0m 136ms/step\n",
      "\u001b[1m1/1\u001b[0m \u001b[32m━━━━━━━━━━━━━━━━━━━━\u001b[0m\u001b[37m\u001b[0m \u001b[1m0s\u001b[0m 181ms/step\n",
      "\u001b[1m1/1\u001b[0m \u001b[32m━━━━━━━━━━━━━━━━━━━━\u001b[0m\u001b[37m\u001b[0m \u001b[1m0s\u001b[0m 109ms/step\n",
      "\u001b[1m1/1\u001b[0m \u001b[32m━━━━━━━━━━━━━━━━━━━━\u001b[0m\u001b[37m\u001b[0m \u001b[1m0s\u001b[0m 111ms/step\n",
      "\u001b[1m1/1\u001b[0m \u001b[32m━━━━━━━━━━━━━━━━━━━━\u001b[0m\u001b[37m\u001b[0m \u001b[1m0s\u001b[0m 103ms/step\n",
      "\u001b[1m1/1\u001b[0m \u001b[32m━━━━━━━━━━━━━━━━━━━━\u001b[0m\u001b[37m\u001b[0m \u001b[1m0s\u001b[0m 120ms/step\n",
      "\u001b[1m1/1\u001b[0m \u001b[32m━━━━━━━━━━━━━━━━━━━━\u001b[0m\u001b[37m\u001b[0m \u001b[1m0s\u001b[0m 114ms/step\n",
      "\u001b[1m1/1\u001b[0m \u001b[32m━━━━━━━━━━━━━━━━━━━━\u001b[0m\u001b[37m\u001b[0m \u001b[1m0s\u001b[0m 126ms/step\n",
      "\u001b[1m1/1\u001b[0m \u001b[32m━━━━━━━━━━━━━━━━━━━━\u001b[0m\u001b[37m\u001b[0m \u001b[1m0s\u001b[0m 118ms/step\n"
     ]
    }
   ],
   "source": [
    "import tkinter as tk\n",
    "\n",
    "class DrawDigits:\n",
    "    def __init__(self, master):\n",
    "        self.master = master\n",
    "        self.canvas = tk.Canvas(master, width=IMG_SIZE*10, height=IMG_SIZE*10, bg='white')\n",
    "        self.canvas.pack()\n",
    "        self.canvas.bind(\"<B1-Motion>\", self.paint)\n",
    "        self.image = np.zeros((IMG_SIZE, IMG_SIZE))\n",
    "        self.button = tk.Button(master, text=\"Predict\", command=self.predict)\n",
    "        self.button.pack()\n",
    "        self.clear_button = tk.Button(master, text=\"Clear\", command=self.clear)\n",
    "        self.clear_button.pack()\n",
    "        self.show_button = tk.Button(master, text=\"Show Image\", command=self.show_image)\n",
    "        self.show_button.pack()\n",
    "        self.label = tk.Label(master, text=\"\")\n",
    "        self.label.pack()\n",
    "\n",
    "    def paint(self, event):\n",
    "        x, y = event.x, event.y\n",
    "        self.canvas.create_rectangle(x-10, y-10, x+10, y+10, fill='black')\n",
    "        for i in range(-2, 2):      # Draw a thicker line with a Gaussian distribution\n",
    "            for j in range(-2, 2):\n",
    "                if 0 <= x//10 + i < IMG_SIZE and 0 <= y//10 + j < IMG_SIZE:\n",
    "                    self.image[y//10 + j, x//10 + i] += np.exp(-(i**2 + j**2)*1.5)\n",
    "        np.clip(self.image, 0, 1, out=self.image)\n",
    "\n",
    "    def predict(self):\n",
    "        self.image = self.image.reshape(1, IMG_SIZE, IMG_SIZE, 1)\n",
    "        prediction = model.predict(self.image)\n",
    "        self.label.config(text=f\"Predicted Digit: {np.argmax(prediction)} with confidence {np.max(prediction)*100:.2f}%\")\n",
    "        self.image = self.image.reshape(IMG_SIZE, IMG_SIZE)\n",
    "\n",
    "    def clear(self):\n",
    "        self.canvas.delete(\"all\")\n",
    "        self.image = np.zeros((IMG_SIZE, IMG_SIZE))\n",
    "\n",
    "    def show_image(self):\n",
    "        plt.imshow(self.image, cmap='gray_r')\n",
    "        plt.show()\n",
    "\n",
    "root = tk.Tk()\n",
    "drawer = DrawDigits(root)\n",
    "root.mainloop()"
   ]
  }
 ],
 "metadata": {
  "kernelspec": {
   "display_name": ".venv",
   "language": "python",
   "name": "python3"
  },
  "language_info": {
   "codemirror_mode": {
    "name": "ipython",
    "version": 3
   },
   "file_extension": ".py",
   "mimetype": "text/x-python",
   "name": "python",
   "nbconvert_exporter": "python",
   "pygments_lexer": "ipython3",
   "version": "3.9.6"
  }
 },
 "nbformat": 4,
 "nbformat_minor": 2
}
